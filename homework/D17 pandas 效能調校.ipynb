{
 "cells": [
  {
   "cell_type": "code",
   "execution_count": 2,
   "metadata": {},
   "outputs": [],
   "source": [
    "#1. 在速度較慢的時候，可以先從哪邊開始檢查？\n",
    "#A: 透過匯入time函式庫來確認運行時間，再透過isin()函數或其他方式篩選出較慢的部分。\n",
    "#正解: ：先檢查有沒有使⽤到⾃訂義的函數，如果有可以查詢pandas中是否有⽀援相關演算法，如果以上都沒辦法改善，那可以從資料讀取⽅式下⼿，將要讀取的資料改成pkl檔\n",
    "\n",
    "#2. 資料過大時應採取什麼方式讓記憶體占用量下降？\n",
    "#A: 將資料結構中欄位的型態降級，例如int改為uint, float64改為float32。"
   ]
  },
  {
   "cell_type": "code",
   "execution_count": null,
   "metadata": {},
   "outputs": [],
   "source": []
  }
 ],
 "metadata": {
  "kernelspec": {
   "display_name": "Python 3",
   "language": "python",
   "name": "python3"
  },
  "language_info": {
   "codemirror_mode": {
    "name": "ipython",
    "version": 3
   },
   "file_extension": ".py",
   "mimetype": "text/x-python",
   "name": "python",
   "nbconvert_exporter": "python",
   "pygments_lexer": "ipython3",
   "version": "3.7.6"
  }
 },
 "nbformat": 4,
 "nbformat_minor": 2
}
